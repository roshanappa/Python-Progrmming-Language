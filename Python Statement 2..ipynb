{
 "cells": [
  {
   "cell_type": "markdown",
   "metadata": {},
   "source": [
    "### While Loop."
   ]
  },
  {
   "cell_type": "markdown",
   "metadata": {},
   "source": [
    "**loop allows us to repeat over some blog of code again and again until and unless required will get mate.**"
   ]
  },
  {
   "cell_type": "code",
   "execution_count": 9,
   "metadata": {},
   "outputs": [
    {
     "name": "stdout",
     "output_type": "stream",
     "text": [
      "The value of i is : 0\n",
      "The value of i is : 1\n",
      "The value of i is : 2\n",
      "The value of i is : 3\n",
      "The value of i is : 4\n"
     ]
    }
   ],
   "source": [
    "i = 0    #counter start from zero\n",
    "\n",
    "while i<5: #ends upto the 5\n",
    "    print('The value of i is :',i)\n",
    "    i=i+1  #iterator add one every itration."
   ]
  },
  {
   "cell_type": "markdown",
   "metadata": {},
   "source": [
    "- In this while loop we are iterating the i to the reuitred iteraration that is 5.\n",
    "- It will stop iterating when the while loop condition will will satisfied."
   ]
  },
  {
   "cell_type": "markdown",
   "metadata": {},
   "source": [
    "#### Example 1"
   ]
  },
  {
   "cell_type": "code",
   "execution_count": null,
   "metadata": {},
   "outputs": [
    {
     "name": "stdout",
     "output_type": "stream",
     "text": [
      "Please enter the 10 To exit.\n",
      "enter the number ?8\n",
      "8\n",
      "enter the number ?8\n",
      "16\n",
      "enter the number ?7\n",
      "23\n",
      "enter the number ?89\n",
      "112\n"
     ]
    }
   ],
   "source": [
    "number=1\n",
    "i =0\n",
    "\n",
    "print('Please enter the 10 To exit.')\n",
    "\n",
    "while number!=0:\n",
    "    num = int(input('enter the number ?'))\n",
    "    i = i+num\n",
    "    print(i)"
   ]
  },
  {
   "cell_type": "code",
   "execution_count": null,
   "metadata": {},
   "outputs": [
    {
     "name": "stdout",
     "output_type": "stream",
     "text": [
      "please eneter the number :90\n",
      "95\n",
      "please eneter the number :89\n",
      "94\n",
      "please eneter the number :8888\n",
      "8893\n",
      "please eneter the number :123\n",
      "128\n",
      "please eneter the number :234\n",
      "239\n",
      "please eneter the number :23\n",
      "28\n",
      "please eneter the number :133\n",
      "138\n",
      "please eneter the number :1234\n",
      "1239\n",
      "please eneter the number :134\n",
      "139\n",
      "please eneter the number :13\n",
      "18\n"
     ]
    }
   ],
   "source": [
    "i = 0\n",
    "\n",
    "c= 5\n",
    "\n",
    "while c!=0:\n",
    "    x = int(input('please eneter the number :'))\n",
    "    total = x+c\n",
    "    print(total)\n",
    "    i=i+1\n",
    "else:\n",
    "    print('You have reach the limit')"
   ]
  },
  {
   "cell_type": "code",
   "execution_count": null,
   "metadata": {},
   "outputs": [
    {
     "name": "stdout",
     "output_type": "stream",
     "text": [
      "number !90\n",
      "94\n"
     ]
    }
   ],
   "source": [
    "num =4\n",
    "i =0\n",
    "while num!=0:\n",
    "    user_input = int(input('number !'))\n",
    "    sum = num+ user_input\n",
    "    print(sum)\n",
    "    i=i+1"
   ]
  },
  {
   "cell_type": "code",
   "execution_count": 1,
   "metadata": {},
   "outputs": [
    {
     "name": "stdout",
     "output_type": "stream",
     "text": [
      "2 * 1 = 2\n",
      "2 * 2 = 4\n",
      "2 * 3 = 6\n",
      "2 * 4 = 8\n",
      "2 * 5 = 10\n",
      "2 * 6 = 12\n",
      "2 * 7 = 14\n",
      "2 * 8 = 16\n",
      "2 * 9 = 18\n",
      "2 * 10 = 20\n"
     ]
    }
   ],
   "source": [
    "i = 1\n",
    "n=2\n",
    "\n",
    "\n",
    "while i<=10:\n",
    "    print(n,'*',i,'=',i*n)\n",
    "    i+=1"
   ]
  },
  {
   "cell_type": "code",
   "execution_count": 8,
   "metadata": {},
   "outputs": [],
   "source": [
    "List = [12,33,44,56,78,99,21]"
   ]
  },
  {
   "cell_type": "code",
   "execution_count": 9,
   "metadata": {},
   "outputs": [],
   "source": [
    "i=0"
   ]
  },
  {
   "cell_type": "code",
   "execution_count": 12,
   "metadata": {},
   "outputs": [],
   "source": [
    "while i<len(List):\n",
    "    List[i]=List[i]+100\n",
    "    i=i+1"
   ]
  },
  {
   "cell_type": "code",
   "execution_count": 13,
   "metadata": {},
   "outputs": [
    {
     "data": {
      "text/plain": [
       "[112, 133, 144, 156, 178, 199, 121]"
      ]
     },
     "execution_count": 13,
     "metadata": {},
     "output_type": "execute_result"
    }
   ],
   "source": [
    "List"
   ]
  },
  {
   "cell_type": "markdown",
   "metadata": {},
   "source": [
    "## For Loop"
   ]
  },
  {
   "cell_type": "markdown",
   "metadata": {},
   "source": [
    "- For loop is use for itrate over the sequence that can tuple,string,dictionary and list.\n",
    "**Lets see the first In operator.**"
   ]
  },
  {
   "cell_type": "code",
   "execution_count": 6,
   "metadata": {},
   "outputs": [],
   "source": [
    "lst = [23,4,56,67,78,54,23,56]\n",
    "tup = (23,23,55,67,22)\n",
    "Set =  {22,89,90,67,44}\n",
    "dictionary ={'Max':10,'Navin':23}"
   ]
  },
  {
   "cell_type": "code",
   "execution_count": 2,
   "metadata": {},
   "outputs": [
    {
     "name": "stdout",
     "output_type": "stream",
     "text": [
      "True\n"
     ]
    }
   ],
   "source": [
    "print(23 in lst) #it will wheather the 23 avalible in list or not"
   ]
  },
  {
   "cell_type": "code",
   "execution_count": 3,
   "metadata": {},
   "outputs": [
    {
     "name": "stdout",
     "output_type": "stream",
     "text": [
      "False\n"
     ]
    }
   ],
   "source": [
    "print(25 in lst)"
   ]
  },
  {
   "cell_type": "markdown",
   "metadata": {},
   "source": [
    "**for loop**"
   ]
  },
  {
   "cell_type": "code",
   "execution_count": 4,
   "metadata": {},
   "outputs": [
    {
     "name": "stdout",
     "output_type": "stream",
     "text": [
      "23\n",
      "4\n",
      "56\n",
      "67\n",
      "78\n",
      "54\n",
      "23\n",
      "56\n"
     ]
    }
   ],
   "source": [
    "for i in lst:      #here the in use to check wheather element avalible or not\n",
    "    print(i)    #it start to one by one each element."
   ]
  },
  {
   "cell_type": "code",
   "execution_count": 7,
   "metadata": {},
   "outputs": [
    {
     "name": "stdout",
     "output_type": "stream",
     "text": [
      "23\n",
      "23\n",
      "55\n",
      "67\n",
      "22\n"
     ]
    }
   ],
   "source": [
    "for i in tup:\n",
    "    print(i)"
   ]
  },
  {
   "cell_type": "code",
   "execution_count": 8,
   "metadata": {},
   "outputs": [
    {
     "name": "stdout",
     "output_type": "stream",
     "text": [
      "67\n",
      "44\n",
      "22\n",
      "89\n",
      "90\n"
     ]
    }
   ],
   "source": [
    "for i in Set:\n",
    "    print(i)"
   ]
  },
  {
   "cell_type": "code",
   "execution_count": 9,
   "metadata": {},
   "outputs": [
    {
     "name": "stdout",
     "output_type": "stream",
     "text": [
      "10\n",
      "23\n"
     ]
    }
   ],
   "source": [
    "for i in dictionary.values():\n",
    "    print(i)"
   ]
  },
  {
   "cell_type": "code",
   "execution_count": 10,
   "metadata": {},
   "outputs": [
    {
     "name": "stdout",
     "output_type": "stream",
     "text": [
      "Max\n",
      "Navin\n"
     ]
    }
   ],
   "source": [
    "for i in dictionary.keys():\n",
    "    print(i)"
   ]
  },
  {
   "cell_type": "code",
   "execution_count": 11,
   "metadata": {},
   "outputs": [
    {
     "name": "stdout",
     "output_type": "stream",
     "text": [
      "Max   10\n",
      "Navin   23\n"
     ]
    }
   ],
   "source": [
    "for key,value in dictionary.items():\n",
    "    print(key,' ',value)\n"
   ]
  },
  {
   "cell_type": "code",
   "execution_count": 12,
   "metadata": {},
   "outputs": [
    {
     "name": "stdout",
     "output_type": "stream",
     "text": [
      "0\n",
      "1\n",
      "2\n",
      "3\n",
      "4\n",
      "5\n",
      "6\n",
      "7\n",
      "8\n",
      "9\n"
     ]
    }
   ],
   "source": [
    "for i in range(10):\n",
    "    print(i)"
   ]
  },
  {
   "cell_type": "code",
   "execution_count": 15,
   "metadata": {},
   "outputs": [
    {
     "name": "stdout",
     "output_type": "stream",
     "text": [
      "2\n",
      "4\n",
      "6\n",
      "8\n",
      "Finished !!\n"
     ]
    }
   ],
   "source": [
    "for i in range(2,10,2):\n",
    "    print(i)\n",
    "else:\n",
    "    print('Finished !!')"
   ]
  },
  {
   "cell_type": "code",
   "execution_count": 22,
   "metadata": {},
   "outputs": [],
   "source": [
    "list = []       #nested for loop\n",
    "for i in range(2,10,2):\n",
    "    for j in range(i):\n",
    "        list.append(i)"
   ]
  },
  {
   "cell_type": "code",
   "execution_count": 23,
   "metadata": {},
   "outputs": [
    {
     "data": {
      "text/plain": [
       "[2, 2, 4, 4, 4, 4, 6, 6, 6, 6, 6, 6, 8, 8, 8, 8, 8, 8, 8, 8]"
      ]
     },
     "execution_count": 23,
     "metadata": {},
     "output_type": "execute_result"
    }
   ],
   "source": [
    "list"
   ]
  },
  {
   "cell_type": "code",
   "execution_count": 16,
   "metadata": {},
   "outputs": [],
   "source": [
    "list = ['Mango','Grapes','Orange','Banana']\n",
    "list2 = ['Chair','Book','Laptop','Pen']"
   ]
  },
  {
   "cell_type": "code",
   "execution_count": 15,
   "metadata": {},
   "outputs": [
    {
     "name": "stdout",
     "output_type": "stream",
     "text": [
      "Mango\n",
      "Grapes\n",
      "Orange\n",
      "Banana\n"
     ]
    }
   ],
   "source": [
    "for i in list:\n",
    "    print(i)"
   ]
  },
  {
   "cell_type": "code",
   "execution_count": 17,
   "metadata": {},
   "outputs": [
    {
     "name": "stdout",
     "output_type": "stream",
     "text": [
      "Mango Chair\n",
      "Mango Book\n",
      "Mango Laptop\n",
      "Mango Pen\n",
      "Grapes Chair\n",
      "Grapes Book\n",
      "Grapes Laptop\n",
      "Grapes Pen\n",
      "Orange Chair\n",
      "Orange Book\n",
      "Orange Laptop\n",
      "Orange Pen\n",
      "Banana Chair\n",
      "Banana Book\n",
      "Banana Laptop\n",
      "Banana Pen\n"
     ]
    }
   ],
   "source": [
    "for i in list:\n",
    "    for j in list2:\n",
    "        print(i,j)"
   ]
  },
  {
   "cell_type": "markdown",
   "metadata": {},
   "source": [
    "In the above the 1st for loop taken the element of list and then itrate and feed second for loop then it start continuously loop with l2 when the attribute will finish that it will take an another attribute and do the same procedure as above mention."
   ]
  },
  {
   "cell_type": "markdown",
   "metadata": {},
   "source": [
    "### For with If,else Statement."
   ]
  },
  {
   "cell_type": "code",
   "execution_count": 27,
   "metadata": {},
   "outputs": [
    {
     "name": "stdout",
     "output_type": "stream",
     "text": [
      "345\n",
      "778\n",
      "5456\n",
      "778432\n",
      "1235\n",
      "77432\n"
     ]
    }
   ],
   "source": [
    "list = [23,345,56,778,23,5456,778432,1235,77432]\n",
    "for i in list:\n",
    "    if i>90:\n",
    "        print(i)"
   ]
  },
  {
   "cell_type": "code",
   "execution_count": 41,
   "metadata": {},
   "outputs": [
    {
     "name": "stdout",
     "output_type": "stream",
     "text": [
      "345 :- These are the higher numbers than 90\n",
      "778 :- These are the higher numbers than 90\n",
      "5456 :- These are the higher numbers than 90\n",
      "778432 :- These are the higher numbers than 90\n",
      "1235 :- These are the higher numbers than 90\n",
      "77432 :- These are the higher numbers than 90\n"
     ]
    }
   ],
   "source": [
    "for i in list:\n",
    "    if i>90:\n",
    "        print(i,':- These are the higher numbers than 90')"
   ]
  },
  {
   "cell_type": "markdown",
   "metadata": {},
   "source": [
    "# Break and Continue Keywords.\n",
    "\n",
    "### Break"
   ]
  },
  {
   "cell_type": "code",
   "execution_count": 42,
   "metadata": {},
   "outputs": [
    {
     "name": "stdout",
     "output_type": "stream",
     "text": [
      "0\n",
      "1\n",
      "2\n",
      "3\n",
      "4\n",
      "5\n",
      "6\n",
      "7\n",
      "8\n",
      "9\n"
     ]
    }
   ],
   "source": [
    "for i in range(10):\n",
    "    print(i)"
   ]
  },
  {
   "cell_type": "code",
   "execution_count": 46,
   "metadata": {},
   "outputs": [
    {
     "name": "stdout",
     "output_type": "stream",
     "text": [
      "0\n",
      "1\n",
      "2\n"
     ]
    }
   ],
   "source": [
    "for i in range(10):\n",
    "    if i==3:\n",
    "        break\n",
    "    print(i)    #It has break the for loop when it reach to 3."
   ]
  },
  {
   "cell_type": "code",
   "execution_count": 1,
   "metadata": {},
   "outputs": [
    {
     "name": "stdout",
     "output_type": "stream",
     "text": [
      "0\n",
      "1\n",
      "2\n"
     ]
    }
   ],
   "source": [
    "i=0\n",
    "\n",
    "while i<5:\n",
    "    if i==3:\n",
    "        break\n",
    "    print(i)\n",
    "    i=i+1"
   ]
  },
  {
   "cell_type": "markdown",
   "metadata": {},
   "source": [
    "### Continue"
   ]
  },
  {
   "cell_type": "code",
   "execution_count": 2,
   "metadata": {},
   "outputs": [
    {
     "name": "stdout",
     "output_type": "stream",
     "text": [
      "0\n",
      "1\n",
      "2\n",
      "4\n",
      "5\n",
      "6\n",
      "7\n",
      "8\n",
      "9\n"
     ]
    }
   ],
   "source": [
    "for i in range(10):\n",
    "    if i==3:         #It has skipped the iteration of 3 and follow the continuous path.\n",
    "        continue\n",
    "    print(i)"
   ]
  },
  {
   "cell_type": "code",
   "execution_count": 2,
   "metadata": {},
   "outputs": [
    {
     "name": "stdout",
     "output_type": "stream",
     "text": [
      "1\n",
      "2\n",
      "4\n",
      "5\n",
      "6\n",
      "7\n"
     ]
    }
   ],
   "source": [
    "i = 0\n",
    "\n",
    "while i<7:\n",
    "    \n",
    "    i=i+1\n",
    "    \n",
    "    if i==3:  #We can see the i==3 is skip\n",
    "        \n",
    "        continue\n",
    "    print(i)"
   ]
  },
  {
   "cell_type": "code",
   "execution_count": 14,
   "metadata": {},
   "outputs": [],
   "source": [
    "vaar = ['Ram','shayam','geeta','Babeeta']\n"
   ]
  },
  {
   "cell_type": "code",
   "execution_count": 16,
   "metadata": {},
   "outputs": [
    {
     "data": {
      "text/plain": [
       "['Ram', 'shayam', 'geeta', 'Babeeta']"
      ]
     },
     "execution_count": 16,
     "metadata": {},
     "output_type": "execute_result"
    }
   ],
   "source": [
    "vaar"
   ]
  },
  {
   "cell_type": "markdown",
   "metadata": {},
   "source": [
    "I want such for loop in that the name of the geeta will not be occure."
   ]
  },
  {
   "cell_type": "code",
   "execution_count": 20,
   "metadata": {},
   "outputs": [
    {
     "name": "stdout",
     "output_type": "stream",
     "text": [
      "Ram\n",
      "shayam\n",
      "Babeeta\n"
     ]
    }
   ],
   "source": [
    "for i in vaar:\n",
    "    if i=='geeta':\n",
    "        continue\n",
    "    print(i)"
   ]
  },
  {
   "cell_type": "code",
   "execution_count": 34,
   "metadata": {},
   "outputs": [],
   "source": [
    "lis = [1,2,3,4,5,6,7,8,9,10,11,12,13,14,15,16,17,18,19,20]"
   ]
  },
  {
   "cell_type": "code",
   "execution_count": 35,
   "metadata": {},
   "outputs": [
    {
     "name": "stdout",
     "output_type": "stream",
     "text": [
      "1\n",
      "3\n",
      "5\n",
      "7\n",
      "9\n",
      "11\n",
      "13\n",
      "15\n",
      "17\n",
      "19\n"
     ]
    }
   ],
   "source": [
    "for i in lis:\n",
    "    if (i%2==0):\n",
    "        continue    #We had removed the all the odd numbers.\n",
    "    print(i)"
   ]
  },
  {
   "cell_type": "code",
   "execution_count": 37,
   "metadata": {},
   "outputs": [
    {
     "name": "stdout",
     "output_type": "stream",
     "text": [
      "1\n",
      "2\n",
      "3\n",
      "4\n",
      "5\n",
      "6\n",
      "7\n",
      "8\n",
      "9\n",
      "10\n"
     ]
    }
   ],
   "source": [
    "for i in lis:\n",
    "    if i>10:\n",
    "        break\n",
    "    print(i)   #It we stop to iterate whenever loop will reach at the 10 accoding to the above condition."
   ]
  },
  {
   "cell_type": "markdown",
   "metadata": {},
   "source": [
    "### Pass"
   ]
  },
  {
   "cell_type": "markdown",
   "metadata": {},
   "source": [
    "- Pass Statement\n",
    "We use pass statement to write empty loops. Pass is also used for empty control statement, function and classes."
   ]
  },
  {
   "cell_type": "code",
   "execution_count": 38,
   "metadata": {},
   "outputs": [],
   "source": [
    "string = 'MYFacebook'"
   ]
  },
  {
   "cell_type": "code",
   "execution_count": 46,
   "metadata": {},
   "outputs": [
    {
     "name": "stdout",
     "output_type": "stream",
     "text": [
      "k\n"
     ]
    }
   ],
   "source": [
    "for i in string:\n",
    "    pass\n",
    "print(i)"
   ]
  },
  {
   "cell_type": "code",
   "execution_count": null,
   "metadata": {},
   "outputs": [],
   "source": []
  }
 ],
 "metadata": {
  "kernelspec": {
   "display_name": "Python 3",
   "language": "python",
   "name": "python3"
  },
  "language_info": {
   "codemirror_mode": {
    "name": "ipython",
    "version": 3
   },
   "file_extension": ".py",
   "mimetype": "text/x-python",
   "name": "python",
   "nbconvert_exporter": "python",
   "pygments_lexer": "ipython3",
   "version": "3.7.4"
  }
 },
 "nbformat": 4,
 "nbformat_minor": 2
}
