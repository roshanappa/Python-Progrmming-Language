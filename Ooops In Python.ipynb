{
 "cells": [
  {
   "cell_type": "markdown",
   "metadata": {},
   "source": [
    "# Object Oriented Programming."
   ]
  },
  {
   "cell_type": "markdown",
   "metadata": {},
   "source": [
    "- In the Object Oriented Programming We have to major thing those are the.\n",
    " - Class   :- It contains an attributes It is like design of the Oject structure.\n",
    " - Object. :- It is can inbulid or build fuild function inside the class"
   ]
  },
  {
   "cell_type": "markdown",
   "metadata": {},
   "source": [
    "**What is a Class?**\n",
    "- A Class is a logical grouping of data and functions. It gives the freedom to create data structures that contains arbitrary content and hence easily accessible.\n",
    "\n",
    "- For example, for any bank employee who want to fetch the customer details online would go to customer class, where all its attributes like transaction details, withdrawal and deposit details, outstanding debt, etc. would be listed out."
   ]
  },
  {
   "cell_type": "code",
   "execution_count": 28,
   "metadata": {},
   "outputs": [
    {
     "name": "stdout",
     "output_type": "stream",
     "text": [
      "i5 8gb 1TB\n",
      "i5 8gb 1TB\n",
      "i5 8gb 1TB\n",
      "i5 8gb 1TB\n"
     ]
    }
   ],
   "source": [
    "class Computer():  #class\n",
    "    \n",
    "    def configure(self):   #method\n",
    "        print('i5','8gb','1TB') #data\n",
    "    \n",
    "    \n",
    "\n",
    "comp1 = Computer()\n",
    "comp2  = Computer()#object define\n",
    "    \n",
    "Computer.configure(comp1) \n",
    "Computer.configure(comp1)     #call the class with an object.\n",
    "\n",
    "comp1.configure()\n",
    "comp2.configure()"
   ]
  },
  {
   "cell_type": "code",
   "execution_count": 29,
   "metadata": {},
   "outputs": [
    {
     "name": "stdout",
     "output_type": "stream",
     "text": [
      "WE are configuring : i7 4hrs\n",
      "WE are configuring : Rayzen 3 3hrs\n"
     ]
    }
   ],
   "source": [
    "class Computer():\n",
    "    def __init__(self,cpu,battary):  #initialization\n",
    "        self.cpu =cpu\n",
    "        self.battary=battary\n",
    "    \n",
    "    def configure(self):\n",
    "        print('WE are configuring :',self.cpu,self.battary)\n",
    "\n",
    "comp1 = Computer('i7','4hrs')\n",
    "comp2 = Computer('Rayzen 3','3hrs')\n",
    "\n",
    "comp1.configure()\n",
    "comp2.configure()"
   ]
  },
  {
   "cell_type": "markdown",
   "metadata": {},
   "source": [
    "#### Important Notes\n",
    "\n",
    "- In the Opps programming the is Bueprint or real time entify:\n",
    "- It have some features those features are the object\n",
    "- Behaviour of that perticular about is in the form of method.\n",
    "- Some indtances we generally add let's suppose we having the Phone and that phone may be samsong,Motorolla,apple."
   ]
  },
  {
   "cell_type": "markdown",
   "metadata": {},
   "source": [
    "- Name of the class should be start from the capital letter.\n"
   ]
  },
  {
   "cell_type": "markdown",
   "metadata": {},
   "source": [
    "### How To Create the First Class"
   ]
  },
  {
   "cell_type": "markdown",
   "metadata": {},
   "source": [
    "### Example 1"
   ]
  },
  {
   "cell_type": "code",
   "execution_count": 30,
   "metadata": {},
   "outputs": [
    {
     "name": "stdout",
     "output_type": "stream",
     "text": [
      "Phone can make the call.\n",
      "we can play the game.\n"
     ]
    }
   ],
   "source": [
    "class Phone():  #class defined   \n",
    "    \n",
    "    def make_call(self):\n",
    "        print('Phone can make the call.')    #Behaviour \n",
    "    def play_game(self):\n",
    "        print('we can play the game.')   #upto this line is our blue print \n",
    "\n",
    "        \n",
    "p1 = Phone()  #Instance or an object\n",
    "\n",
    "p1.make_call()  #call the method with it's behaviour.\n",
    "p1.play_game()"
   ]
  },
  {
   "cell_type": "markdown",
   "metadata": {},
   "source": [
    "## Example 2"
   ]
  },
  {
   "cell_type": "code",
   "execution_count": 31,
   "metadata": {},
   "outputs": [],
   "source": [
    "class Phone():\n",
    "    \n",
    "    \n",
    "    def set_color(self,color):  #Self contains the obeject name as an attribute and  color is features\n",
    "        self.color = color\n",
    "    def set_cost(self,cost):\n",
    "        self.cost = cost\n",
    "    def show_color(self):\n",
    "        return self.color\n",
    "    def show_cost(self):\n",
    "        return self.cost\n",
    "    def make_call(self):\n",
    "        print('Make a Call.')\n",
    "    def play_game(self):\n",
    "        print('Play A Game.')"
   ]
  },
  {
   "cell_type": "code",
   "execution_count": 32,
   "metadata": {},
   "outputs": [],
   "source": [
    "P2 = Phone()"
   ]
  },
  {
   "cell_type": "code",
   "execution_count": 33,
   "metadata": {},
   "outputs": [],
   "source": [
    "P2.set_color('Green')   #"
   ]
  },
  {
   "cell_type": "code",
   "execution_count": 34,
   "metadata": {},
   "outputs": [
    {
     "data": {
      "text/plain": [
       "'Green'"
      ]
     },
     "execution_count": 34,
     "metadata": {},
     "output_type": "execute_result"
    }
   ],
   "source": [
    "P2.show_color()"
   ]
  },
  {
   "cell_type": "code",
   "execution_count": 35,
   "metadata": {},
   "outputs": [],
   "source": [
    "P2.set_cost(5900)"
   ]
  },
  {
   "cell_type": "code",
   "execution_count": 36,
   "metadata": {},
   "outputs": [
    {
     "data": {
      "text/plain": [
       "5900"
      ]
     },
     "execution_count": 36,
     "metadata": {},
     "output_type": "execute_result"
    }
   ],
   "source": [
    "P2.show_cost()"
   ]
  },
  {
   "cell_type": "markdown",
   "metadata": {},
   "source": [
    "## Example 3"
   ]
  },
  {
   "cell_type": "code",
   "execution_count": 37,
   "metadata": {},
   "outputs": [
    {
     "name": "stdout",
     "output_type": "stream",
     "text": [
      "Name of the employee:- Mahesh\n",
      "Age of the employee :- 20\n",
      "Salary of the employee 20000\n",
      "Gender of the employee Male\n",
      "\n",
      "Name of the employee:- Ramesh\n",
      "Age of the employee :- 30\n",
      "Salary of the employee 30000\n",
      "Gender of the employee Female\n"
     ]
    }
   ],
   "source": [
    "class Employees:\n",
    "    \n",
    "    def __init__(self,name,age,salary,gender):\n",
    "        self.name=name\n",
    "        self.age = age\n",
    "        self.salary=salary\n",
    "        self.gender = gender\n",
    "        \n",
    "    def Employees_details(self):\n",
    "        print('Name of the employee:-',self.name)\n",
    "        print('Age of the employee :-',self.age)\n",
    "        print('Salary of the employee',self.salary)\n",
    "        print('Gender of the employee',self.gender)\n",
    "    \n",
    "    \n",
    "    \n",
    "Company_emmployee1 = Employees('Mahesh',20,20000,'Male')\n",
    "Company_employee2  = Employees('Ramesh',30,30000,'Female')\n",
    "\n",
    "Company_emmployee1.Employees_details()\n",
    "print()\n",
    "Company_employee2.Employees_details()"
   ]
  },
  {
   "cell_type": "code",
   "execution_count": 38,
   "metadata": {},
   "outputs": [
    {
     "name": "stdout",
     "output_type": "stream",
     "text": [
      "please enter the number :99\n",
      "This is your number : 99\n",
      "\n",
      "please enter the number :88\n",
      "Both are the different\n",
      "\n",
      "please enter the number :30\n",
      "Its an updated number 100\n"
     ]
    }
   ],
   "source": [
    "class A:\n",
    "    \n",
    "    def __init__(self,number):\n",
    "        self.number = number\n",
    "        \n",
    "    def enter_a_num(self):\n",
    "        print('This is your number :',self.number)\n",
    "    def compare(self):\n",
    "        if int(input('please enter the number :')) != 30:\n",
    "            print('Both are the different')\n",
    "        else:\n",
    "            print('Both are the same')\n",
    "            \n",
    "    def update(self):\n",
    "        a=30\n",
    "        if int(input('please enter the number :'))==a:\n",
    "            print('Its an updated number',100)\n",
    "        else:\n",
    "            int(input('please enter the number :'))\n",
    "            \n",
    "        \n",
    "        \n",
    "c1 = A(int(input('please enter the number :')))\n",
    "\n",
    "c1.enter_a_num()\n",
    "print()\n",
    "c1.compare()\n",
    "print()\n",
    "c1.update()"
   ]
  },
  {
   "cell_type": "markdown",
   "metadata": {},
   "source": [
    "### Inheritance."
   ]
  },
  {
   "cell_type": "markdown",
   "metadata": {},
   "source": [
    "- In that the main class is parent class and subclass is also called as child class.\n",
    "- In inheritance the subclass or child class is inheritant the feature which are avalible inside main class.\n",
    "- Mupliple is the one class which can inherent the properties of the main class as well as child class."
   ]
  },
  {
   "cell_type": "markdown",
   "metadata": {},
   "source": [
    "**Parent Class**"
   ]
  },
  {
   "cell_type": "code",
   "execution_count": 39,
   "metadata": {},
   "outputs": [
    {
     "name": "stdout",
     "output_type": "stream",
     "text": [
      "Vehicle weight : 89\n",
      "Vehicle price : 25000\n",
      "Vehicle Millage 40\n",
      "Vehicls Price Honda\n",
      "This Tata motor car 4 wheel drive.\n"
     ]
    }
   ],
   "source": [
    "class Vehicle():\n",
    "    \n",
    "    \n",
    "    def __init__(self,weight,price,Millage,name):\n",
    "        self.name = name\n",
    "        self.weight = weight\n",
    "        self.Millage = Millage\n",
    "        self.price = price\n",
    "        \n",
    "    def feature_of_vehicle(self):                                   #This is all about the Main class. \n",
    "        print('Vehicle weight :',self.weight)\n",
    "        print('Vehicle price :',self.price)\n",
    "        print('Vehicle Millage',self.Millage)\n",
    "        print('Vehicls Price',self.name)\n",
    "        \n",
    "        \n",
    "        \n",
    "        \n",
    "## -----------------inheritance part------------------------------------------------\n",
    "#step-1 create a main class:\n",
    "#step-2 Create child class inside we have pass the main class so thta why the reasone all the properties of the main inhetiated by the child class\n",
    "        \n",
    "vehicle1 = Vehicle(89,25000,40,'Honda')\n",
    "\n",
    "vehicle1.feature_of_vehicle()\n",
    "\n",
    "\n",
    "class TaTa_motors(Vehicle):\n",
    "    def New_car(self):\n",
    "        print(\"This Tata motor car 4 wheel drive.\")\n",
    "        \n",
    "C1 = TaTa_motors(4,450,90000,98)\n",
    "C1.New_car()"
   ]
  },
  {
   "cell_type": "code",
   "execution_count": 40,
   "metadata": {},
   "outputs": [
    {
     "name": "stdout",
     "output_type": "stream",
     "text": [
      "This Tata motor car 4 wheel drive.\n"
     ]
    }
   ],
   "source": [
    "C1.New_car()"
   ]
  },
  {
   "cell_type": "markdown",
   "metadata": {},
   "source": [
    "### Super method \n",
    "\n",
    "- If we want to access or add somthing in the child that we have to use the super method."
   ]
  },
  {
   "cell_type": "code",
   "execution_count": 4,
   "metadata": {},
   "outputs": [],
   "source": [
    "#parrent class\n",
    "\n",
    "\n",
    "#second class\n",
    "def __init__(self,parrnt_class_attributes,additional_atrributes):\n",
    "    super.__init__(parrent_attributes)\n",
    "    self.arrt1 = arrt1\n",
    "    self.arrt2 = arrt2    #Thses attributes are the new attributes."
   ]
  }
 ],
 "metadata": {
  "kernelspec": {
   "display_name": "Python 3",
   "language": "python",
   "name": "python3"
  },
  "language_info": {
   "codemirror_mode": {
    "name": "ipython",
    "version": 3
   },
   "file_extension": ".py",
   "mimetype": "text/x-python",
   "name": "python",
   "nbconvert_exporter": "python",
   "pygments_lexer": "ipython3",
   "version": "3.7.4"
  }
 },
 "nbformat": 4,
 "nbformat_minor": 2
}
